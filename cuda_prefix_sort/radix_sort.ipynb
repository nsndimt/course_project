{
 "cells": [
  {
   "cell_type": "code",
   "execution_count": 43,
   "metadata": {},
   "outputs": [],
   "source": [
    "import random\n",
    "import math\n",
    "import copy"
   ]
  },
  {
   "cell_type": "code",
   "execution_count": 44,
   "metadata": {},
   "outputs": [
    {
     "data": {
      "text/plain": [
       "[12, 4, 12, 16, 16, 2, 6, 3, 7, 7, 14, 16, 14, 12, 16, 3]"
      ]
     },
     "execution_count": 44,
     "metadata": {},
     "output_type": "execute_result"
    }
   ],
   "source": [
    "data = [random.randint(0,16) for i in range(16)]\n",
    "data"
   ]
  },
  {
   "cell_type": "code",
   "execution_count": 51,
   "metadata": {},
   "outputs": [],
   "source": [
    "def prefix_sum(data,n):\n",
    "    print('in', data, n)\n",
    "    if n == 1:\n",
    "        print('out', [0], n)\n",
    "        return [0]\n",
    "    new_array = [data[2*i] + data[2*i+1] for i in range(n//2)]\n",
    "    sub_prefix_sum = prefix_sum(new_array,n//2)\n",
    "    for i in range(n//2):\n",
    "        temp = data[2*i]\n",
    "        data[2*i] = sub_prefix_sum[i]\n",
    "        data[2*i+1] = data[2*i] + temp\n",
    "    print('out', data, n)\n",
    "    return data"
   ]
  },
  {
   "cell_type": "code",
   "execution_count": 52,
   "metadata": {},
   "outputs": [
    {
     "name": "stdout",
     "output_type": "stream",
     "text": [
      "in [12, 4, 12, 16, 16, 2, 6, 3, 7, 7, 14, 16, 14, 12, 16, 3] 16\n",
      "in [16, 28, 18, 9, 14, 30, 26, 19] 8\n",
      "in [44, 27, 44, 45] 4\n",
      "in [71, 89] 2\n",
      "in [160] 1\n",
      "out [0] 1\n",
      "out [0, 71] 2\n",
      "out [0, 44, 71, 115] 4\n",
      "out [0, 16, 44, 62, 71, 85, 115, 141] 8\n",
      "out [0, 12, 16, 28, 44, 60, 62, 68, 71, 78, 85, 99, 115, 129, 141, 157] 16\n"
     ]
    },
    {
     "data": {
      "text/plain": [
       "[0, 12, 16, 28, 44, 60, 62, 68, 71, 78, 85, 99, 115, 129, 141, 157]"
      ]
     },
     "execution_count": 52,
     "metadata": {},
     "output_type": "execute_result"
    }
   ],
   "source": [
    "prefix_sum(copy.deepcopy(data),16)"
   ]
  },
  {
   "cell_type": "code",
   "execution_count": null,
   "metadata": {},
   "outputs": [],
   "source": []
  }
 ],
 "metadata": {
  "kernelspec": {
   "display_name": "Python 3",
   "language": "python",
   "name": "python3"
  },
  "language_info": {
   "codemirror_mode": {
    "name": "ipython",
    "version": 3
   },
   "file_extension": ".py",
   "mimetype": "text/x-python",
   "name": "python",
   "nbconvert_exporter": "python",
   "pygments_lexer": "ipython3",
   "version": "3.7.3"
  }
 },
 "nbformat": 4,
 "nbformat_minor": 2
}
